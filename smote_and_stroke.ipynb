{
 "cells": [
  {
   "cell_type": "markdown",
   "metadata": {},
   "source": [
    "# Dealing with Imbalanced Data via a Pipeline"
   ]
  },
  {
   "cell_type": "markdown",
   "metadata": {},
   "source": [
    "## Big Question: Which technique, SMOTE or weighted classes, best help estimators predict the minority class when dealing with imbalanced stroke data?"
   ]
  },
  {
   "cell_type": "code",
   "execution_count": 1,
   "metadata": {},
   "outputs": [],
   "source": [
    "# Data Manipulation\n",
    "import numpy as np\n",
    "import pandas as pd\n",
    "\n",
    "# Preprocessing\n",
    "import category_encoders\n",
    "import imblearn.pipeline    \n",
    "\n",
    "from   sklearn.compose         import *\n",
    "from   sklearn.impute          import *\n",
    "from   sklearn.metrics         import *\n",
    "from   sklearn.model_selection import train_test_split, RandomizedSearchCV\n",
    "from   sklearn.pipeline        import Pipeline\n",
    "from   sklearn.preprocessing   import *\n",
    "from   imblearn.over_sampling  import SMOTE\n",
    "\n",
    "# Estimators\n",
    "from sklearn.base              import BaseEstimator\n",
    "from sklearn.ensemble          import ExtraTreesClassifier, RandomForestClassifier\n",
    "from sklearn.linear_model      import LogisticRegression\n",
    "from sklearn.neighbors         import KNeighborsClassifier\n",
    "\n",
    "# Graphics\n",
    "import matplotlib.pyplot as plt\n",
    "import matplotlib as mpl\n",
    "mpl.rcParams['figure.figsize'] = (10.0, 10.0) \n",
    "                              ###(  → ,  ↑  ) ###\n",
    "mpl.rcParams['font.size'] = 24\n",
    "from sklearn import set_config\n",
    "set_config(display='diagram')"
   ]
  },
  {
   "cell_type": "markdown",
   "metadata": {},
   "source": [
    "# Load and Examine Data"
   ]
  },
  {
   "cell_type": "code",
   "execution_count": 2,
   "metadata": {},
   "outputs": [],
   "source": [
    "df = pd.read_csv(\"stroke.csv\")\n",
    "X, y = df.drop('stroke', axis=1), df.stroke"
   ]
  },
  {
   "cell_type": "code",
   "execution_count": 3,
   "metadata": {},
   "outputs": [
    {
     "data": {
      "text/plain": [
       "(5110, 11)"
      ]
     },
     "execution_count": 3,
     "metadata": {},
     "output_type": "execute_result"
    }
   ],
   "source": [
    "X.shape"
   ]
  },
  {
   "cell_type": "code",
   "execution_count": 4,
   "metadata": {},
   "outputs": [
    {
     "data": {
      "text/html": [
       "<div>\n",
       "<style scoped>\n",
       "    .dataframe tbody tr th:only-of-type {\n",
       "        vertical-align: middle;\n",
       "    }\n",
       "\n",
       "    .dataframe tbody tr th {\n",
       "        vertical-align: top;\n",
       "    }\n",
       "\n",
       "    .dataframe thead th {\n",
       "        text-align: right;\n",
       "    }\n",
       "</style>\n",
       "<table border=\"1\" class=\"dataframe\">\n",
       "  <thead>\n",
       "    <tr style=\"text-align: right;\">\n",
       "      <th></th>\n",
       "      <th>id</th>\n",
       "      <th>gender</th>\n",
       "      <th>age</th>\n",
       "      <th>hypertension</th>\n",
       "      <th>heart_disease</th>\n",
       "      <th>ever_married</th>\n",
       "      <th>work_type</th>\n",
       "      <th>Residence_type</th>\n",
       "      <th>avg_glucose_level</th>\n",
       "      <th>bmi</th>\n",
       "      <th>smoking_status</th>\n",
       "    </tr>\n",
       "  </thead>\n",
       "  <tbody>\n",
       "    <tr>\n",
       "      <th>0</th>\n",
       "      <td>9046</td>\n",
       "      <td>Male</td>\n",
       "      <td>67.0</td>\n",
       "      <td>0</td>\n",
       "      <td>1</td>\n",
       "      <td>Yes</td>\n",
       "      <td>Private</td>\n",
       "      <td>Urban</td>\n",
       "      <td>228.69</td>\n",
       "      <td>36.6</td>\n",
       "      <td>formerly smoked</td>\n",
       "    </tr>\n",
       "    <tr>\n",
       "      <th>1</th>\n",
       "      <td>51676</td>\n",
       "      <td>Female</td>\n",
       "      <td>61.0</td>\n",
       "      <td>0</td>\n",
       "      <td>0</td>\n",
       "      <td>Yes</td>\n",
       "      <td>Self-employed</td>\n",
       "      <td>Rural</td>\n",
       "      <td>202.21</td>\n",
       "      <td>NaN</td>\n",
       "      <td>never smoked</td>\n",
       "    </tr>\n",
       "    <tr>\n",
       "      <th>2</th>\n",
       "      <td>31112</td>\n",
       "      <td>Male</td>\n",
       "      <td>80.0</td>\n",
       "      <td>0</td>\n",
       "      <td>1</td>\n",
       "      <td>Yes</td>\n",
       "      <td>Private</td>\n",
       "      <td>Rural</td>\n",
       "      <td>105.92</td>\n",
       "      <td>32.5</td>\n",
       "      <td>never smoked</td>\n",
       "    </tr>\n",
       "    <tr>\n",
       "      <th>3</th>\n",
       "      <td>60182</td>\n",
       "      <td>Female</td>\n",
       "      <td>49.0</td>\n",
       "      <td>0</td>\n",
       "      <td>0</td>\n",
       "      <td>Yes</td>\n",
       "      <td>Private</td>\n",
       "      <td>Urban</td>\n",
       "      <td>171.23</td>\n",
       "      <td>34.4</td>\n",
       "      <td>smokes</td>\n",
       "    </tr>\n",
       "    <tr>\n",
       "      <th>4</th>\n",
       "      <td>1665</td>\n",
       "      <td>Female</td>\n",
       "      <td>79.0</td>\n",
       "      <td>1</td>\n",
       "      <td>0</td>\n",
       "      <td>Yes</td>\n",
       "      <td>Self-employed</td>\n",
       "      <td>Rural</td>\n",
       "      <td>174.12</td>\n",
       "      <td>24.0</td>\n",
       "      <td>never smoked</td>\n",
       "    </tr>\n",
       "  </tbody>\n",
       "</table>\n",
       "</div>"
      ],
      "text/plain": [
       "      id  gender   age  hypertension  heart_disease ever_married  \\\n",
       "0   9046    Male  67.0             0              1          Yes   \n",
       "1  51676  Female  61.0             0              0          Yes   \n",
       "2  31112    Male  80.0             0              1          Yes   \n",
       "3  60182  Female  49.0             0              0          Yes   \n",
       "4   1665  Female  79.0             1              0          Yes   \n",
       "\n",
       "       work_type Residence_type  avg_glucose_level   bmi   smoking_status  \n",
       "0        Private          Urban             228.69  36.6  formerly smoked  \n",
       "1  Self-employed          Rural             202.21   NaN     never smoked  \n",
       "2        Private          Rural             105.92  32.5     never smoked  \n",
       "3        Private          Urban             171.23  34.4           smokes  \n",
       "4  Self-employed          Rural             174.12  24.0     never smoked  "
      ]
     },
     "execution_count": 4,
     "metadata": {},
     "output_type": "execute_result"
    }
   ],
   "source": [
    "X.head()"
   ]
  },
  {
   "cell_type": "code",
   "execution_count": 5,
   "metadata": {},
   "outputs": [],
   "source": [
    "# for confirming our results\n",
    "X_train, X_test, y_train, y_test = train_test_split(X, y, train_size=.8)\n",
    "\n",
    "# create dummy estimator to allow random search on a few models\n",
    "class DummyEstimator(BaseEstimator):\n",
    "    def fit(self): pass\n",
    "    def score(self): pass"
   ]
  },
  {
   "cell_type": "markdown",
   "metadata": {},
   "source": [
    "# Data Preprocessing\n",
    "\n",
    "## How columns should be treated: Create 3 categories - Drop, Categorial, Continuous"
   ]
  },
  {
   "cell_type": "code",
   "execution_count": 6,
   "metadata": {},
   "outputs": [],
   "source": [
    "# choose which type each column is\n",
    "dropping = [\"id\"]\n",
    "\n",
    "continuous_columns = [\"age\", \n",
    "                      \"avg_glucose_level\", \n",
    "                      \"bmi\"]\n",
    "\n",
    "categorical_columns = [\"gender\",\n",
    "                       \"hypertension\",\n",
    "                       \"heart_disease\",\n",
    "                       \"ever_married\", \n",
    "                       \"work_type\", \n",
    "                       \"Residence_type\",\n",
    "                       \"smoking_status\"]\n",
    "\n",
    "# create mini pipelines for continuous and categorical columns\n",
    "cat_pipe = Pipeline([('freq_imputer', SimpleImputer(strategy='most_frequent')), # deal with missing values\n",
    "                     ('ohe', OneHotEncoder(handle_unknown=\"ignore\"))]) # deal with categories\n",
    "\n",
    "cont_pipe = Pipeline([(\"impute\", KNNImputer(n_neighbors=7)), # deal with missing values\n",
    "                      (\"scaler\", StandardScaler())]) # standardize\n",
    "\n",
    "columns_transformed = ColumnTransformer([\n",
    "                                         (\"continuous\",  cont_pipe, continuous_columns),\n",
    "                                         (\"categorical\", cat_pipe,  categorical_columns)\n",
    "                                        ],\n",
    "                                         remainder='drop'\n",
    "                                        )"
   ]
  },
  {
   "cell_type": "markdown",
   "metadata": {},
   "source": [
    "## Primary pipeline for testing various models"
   ]
  },
  {
   "cell_type": "code",
   "execution_count": 7,
   "metadata": {},
   "outputs": [],
   "source": [
    "# For main pipeline\n",
    "column_treatment = (\"columns\", columns_transformed)\n",
    "estimator = (\"estimator\", DummyEstimator()) # the chosen string must match the search space string: i.e., estimator__\n",
    "\n",
    "# Main pipeline\n",
    "pipe = Pipeline([column_treatment, \n",
    "                 estimator])"
   ]
  },
  {
   "cell_type": "markdown",
   "metadata": {},
   "source": [
    "## Choose several estimators and corresponding hyperparameters to test"
   ]
  },
  {
   "cell_type": "code",
   "execution_count": 8,
   "metadata": {},
   "outputs": [
    {
     "name": "stdout",
     "output_type": "stream",
     "text": [
      "Fitting 3 folds for each of 50 candidates, totalling 150 fits\n"
     ]
    },
    {
     "name": "stderr",
     "output_type": "stream",
     "text": [
      "[Parallel(n_jobs=1)]: Using backend SequentialBackend with 1 concurrent workers.\n"
     ]
    },
    {
     "name": "stdout",
     "output_type": "stream",
     "text": [
      "CPU times: user 2min 23s, sys: 7.15 s, total: 2min 30s\n",
      "Wall time: 27.4 s\n"
     ]
    },
    {
     "name": "stderr",
     "output_type": "stream",
     "text": [
      "[Parallel(n_jobs=1)]: Done 150 out of 150 | elapsed:   27.3s finished\n"
     ]
    },
    {
     "data": {
      "text/plain": [
       "{'estimator__multi_class': 'multinomial',\n",
       " 'estimator__class_weight': {0: 1, 1: 15},\n",
       " 'estimator__C': 3,\n",
       " 'estimator': LogisticRegression(C=3, class_weight={0: 1, 1: 15}, multi_class='multinomial',\n",
       "                    n_jobs=-1)}"
      ]
     },
     "execution_count": 8,
     "metadata": {},
     "output_type": "execute_result"
    }
   ],
   "source": [
    "# define estimators and hyperparameters for testing\n",
    "lr = dict(estimator=[LogisticRegression(n_jobs=-1)],\n",
    "                     estimator__C=[0.01, 0.5, 1, 2, 3, 10, 100],\n",
    "                     estimator__class_weight=[{0:1,1:15}, \n",
    "                                              {0:1,1:10}, \n",
    "                                             ],\n",
    "                     estimator__multi_class=[\"ovr\", \"multinomial\"]\n",
    "         )\n",
    "\n",
    "rf = dict(estimator=[RandomForestClassifier(n_jobs=-1)],\n",
    "                     estimator__criterion=['gini', 'entropy'],\n",
    "                     estimator__class_weight=['balanced', 'balanced_subsample',\n",
    "                                             {0:1,1:15}, \n",
    "                                              {0:1,1:10}, \n",
    "                                              {0:1,1:5}\n",
    "                                             ],\n",
    "                     estimator__max_features=[1, 2, 3, 4, \"sqrt\"],\n",
    "                     estimator__n_estimators=[100, 150, 200],\n",
    "                     estimator__min_samples_leaf=[5, 10, 20],\n",
    "         )\n",
    "\n",
    "kn = dict(estimator=[KNeighborsClassifier(n_jobs=-1)],\n",
    "                     estimator__n_neighbors=[1,2,3,4,5],\n",
    "                     estimator__leaf_size=[10, 20, 30, 40, 50],\n",
    "                     estimator__weights = [\"uniform\", \"distance\"]\n",
    "         )\n",
    "\n",
    "# create search space on logistic regression, ensemblers, kneighbors\n",
    "search_space = [lr, rf, kn]\n",
    "\n",
    "# random grid search across models and their hyperparms\n",
    "clf_rand = RandomizedSearchCV(estimator=pipe, \n",
    "                              param_distributions=search_space, \n",
    "                              n_iter=50,\n",
    "                              cv=3,\n",
    "                              verbose=True,\n",
    "                              scoring='recall'\n",
    "                              )\n",
    "\n",
    "X_train, X_test, y_train, y_test = train_test_split(X, y, train_size=.7, random_state=777)\n",
    "\n",
    "%time best_model = clf_rand.fit(X_train, y_train)\n",
    "best_model.best_params_"
   ]
  },
  {
   "cell_type": "code",
   "execution_count": 9,
   "metadata": {},
   "outputs": [
    {
     "data": {
      "text/html": [
       "<style>div.sk-top-container {color: black;background-color: white;}div.sk-toggleable {background-color: white;}label.sk-toggleable__label {cursor: pointer;display: block;width: 100%;margin-bottom: 0;padding: 0.2em 0.3em;box-sizing: border-box;text-align: center;}div.sk-toggleable__content {max-height: 0;max-width: 0;overflow: hidden;text-align: left;background-color: #f0f8ff;}div.sk-toggleable__content pre {margin: 0.2em;color: black;border-radius: 0.25em;background-color: #f0f8ff;}input.sk-toggleable__control:checked~div.sk-toggleable__content {max-height: 200px;max-width: 100%;overflow: auto;}div.sk-estimator input.sk-toggleable__control:checked~label.sk-toggleable__label {background-color: #d4ebff;}div.sk-label input.sk-toggleable__control:checked~label.sk-toggleable__label {background-color: #d4ebff;}input.sk-hidden--visually {border: 0;clip: rect(1px 1px 1px 1px);clip: rect(1px, 1px, 1px, 1px);height: 1px;margin: -1px;overflow: hidden;padding: 0;position: absolute;width: 1px;}div.sk-estimator {font-family: monospace;background-color: #f0f8ff;margin: 0.25em 0.25em;border: 1px dotted black;border-radius: 0.25em;box-sizing: border-box;}div.sk-estimator:hover {background-color: #d4ebff;}div.sk-parallel-item::after {content: \"\";width: 100%;border-bottom: 1px solid gray;flex-grow: 1;}div.sk-label:hover label.sk-toggleable__label {background-color: #d4ebff;}div.sk-serial::before {content: \"\";position: absolute;border-left: 1px solid gray;box-sizing: border-box;top: 2em;bottom: 0;left: 50%;}div.sk-serial {display: flex;flex-direction: column;align-items: center;background-color: white;}div.sk-item {z-index: 1;}div.sk-parallel {display: flex;align-items: stretch;justify-content: center;background-color: white;}div.sk-parallel-item {display: flex;flex-direction: column;position: relative;background-color: white;}div.sk-parallel-item:first-child::after {align-self: flex-end;width: 50%;}div.sk-parallel-item:last-child::after {align-self: flex-start;width: 50%;}div.sk-parallel-item:only-child::after {width: 0;}div.sk-dashed-wrapped {border: 1px dashed gray;margin: 0.2em;box-sizing: border-box;padding-bottom: 0.1em;background-color: white;position: relative;}div.sk-label label {font-family: monospace;font-weight: bold;background-color: white;display: inline-block;line-height: 1.2em;}div.sk-label-container {position: relative;z-index: 2;text-align: center;}div.sk-container {display: inline-block;position: relative;}</style><div class=\"sk-top-container\"><div class=\"sk-container\"><div class=\"sk-item sk-dashed-wrapped\"><div class=\"sk-label-container\"><div class=\"sk-label sk-toggleable\"><input class=\"sk-toggleable__control sk-hidden--visually\" id=\"1d81177b-9b27-4f15-a7df-e993b15a5599\" type=\"checkbox\" ><label class=\"sk-toggleable__label\" for=\"1d81177b-9b27-4f15-a7df-e993b15a5599\">Pipeline</label><div class=\"sk-toggleable__content\"><pre>Pipeline(steps=[('columns',\n",
       "                 ColumnTransformer(transformers=[('continuous',\n",
       "                                                  Pipeline(steps=[('impute',\n",
       "                                                                   KNNImputer(n_neighbors=7)),\n",
       "                                                                  ('scaler',\n",
       "                                                                   StandardScaler())]),\n",
       "                                                  ['age', 'avg_glucose_level',\n",
       "                                                   'bmi']),\n",
       "                                                 ('categorical',\n",
       "                                                  Pipeline(steps=[('freq_imputer',\n",
       "                                                                   SimpleImputer(strategy='most_frequent')),\n",
       "                                                                  ('ohe',\n",
       "                                                                   OneHotEncoder(handle_unknown='ignore'))]),\n",
       "                                                  ['gender', 'hypertension',\n",
       "                                                   'heart_disease',\n",
       "                                                   'ever_married', 'work_type',\n",
       "                                                   'Residence_type',\n",
       "                                                   'smoking_status'])])),\n",
       "                ('estimator',\n",
       "                 LogisticRegression(C=3, class_weight={0: 1, 1: 15},\n",
       "                                    multi_class='multinomial', n_jobs=-1))])</pre></div></div></div><div class=\"sk-serial\"><div class=\"sk-item sk-dashed-wrapped\"><div class=\"sk-label-container\"><div class=\"sk-label sk-toggleable\"><input class=\"sk-toggleable__control sk-hidden--visually\" id=\"def9b75f-d131-42d8-898b-5284460cda2f\" type=\"checkbox\" ><label class=\"sk-toggleable__label\" for=\"def9b75f-d131-42d8-898b-5284460cda2f\">columns: ColumnTransformer</label><div class=\"sk-toggleable__content\"><pre>ColumnTransformer(transformers=[('continuous',\n",
       "                                 Pipeline(steps=[('impute',\n",
       "                                                  KNNImputer(n_neighbors=7)),\n",
       "                                                 ('scaler', StandardScaler())]),\n",
       "                                 ['age', 'avg_glucose_level', 'bmi']),\n",
       "                                ('categorical',\n",
       "                                 Pipeline(steps=[('freq_imputer',\n",
       "                                                  SimpleImputer(strategy='most_frequent')),\n",
       "                                                 ('ohe',\n",
       "                                                  OneHotEncoder(handle_unknown='ignore'))]),\n",
       "                                 ['gender', 'hypertension', 'heart_disease',\n",
       "                                  'ever_married', 'work_type', 'Residence_type',\n",
       "                                  'smoking_status'])])</pre></div></div></div><div class=\"sk-parallel\"><div class=\"sk-parallel-item\"><div class=\"sk-item\"><div class=\"sk-label-container\"><div class=\"sk-label sk-toggleable\"><input class=\"sk-toggleable__control sk-hidden--visually\" id=\"a0f61f78-5804-4264-8273-5fe07a9796ea\" type=\"checkbox\" ><label class=\"sk-toggleable__label\" for=\"a0f61f78-5804-4264-8273-5fe07a9796ea\">continuous</label><div class=\"sk-toggleable__content\"><pre>['age', 'avg_glucose_level', 'bmi']</pre></div></div></div><div class=\"sk-serial\"><div class=\"sk-item\"><div class=\"sk-serial\"><div class=\"sk-item\"><div class=\"sk-estimator sk-toggleable\"><input class=\"sk-toggleable__control sk-hidden--visually\" id=\"6cae9db9-5ce8-495c-b099-f878cfd093ff\" type=\"checkbox\" ><label class=\"sk-toggleable__label\" for=\"6cae9db9-5ce8-495c-b099-f878cfd093ff\">KNNImputer</label><div class=\"sk-toggleable__content\"><pre>KNNImputer(n_neighbors=7)</pre></div></div></div><div class=\"sk-item\"><div class=\"sk-estimator sk-toggleable\"><input class=\"sk-toggleable__control sk-hidden--visually\" id=\"093a7403-0ab8-42c9-b20a-94c7930ac0dd\" type=\"checkbox\" ><label class=\"sk-toggleable__label\" for=\"093a7403-0ab8-42c9-b20a-94c7930ac0dd\">StandardScaler</label><div class=\"sk-toggleable__content\"><pre>StandardScaler()</pre></div></div></div></div></div></div></div></div><div class=\"sk-parallel-item\"><div class=\"sk-item\"><div class=\"sk-label-container\"><div class=\"sk-label sk-toggleable\"><input class=\"sk-toggleable__control sk-hidden--visually\" id=\"d6123934-bdd4-43fa-aa8b-f6f914567881\" type=\"checkbox\" ><label class=\"sk-toggleable__label\" for=\"d6123934-bdd4-43fa-aa8b-f6f914567881\">categorical</label><div class=\"sk-toggleable__content\"><pre>['gender', 'hypertension', 'heart_disease', 'ever_married', 'work_type', 'Residence_type', 'smoking_status']</pre></div></div></div><div class=\"sk-serial\"><div class=\"sk-item\"><div class=\"sk-serial\"><div class=\"sk-item\"><div class=\"sk-estimator sk-toggleable\"><input class=\"sk-toggleable__control sk-hidden--visually\" id=\"2107c015-ab86-472c-a54f-db28aa5932a7\" type=\"checkbox\" ><label class=\"sk-toggleable__label\" for=\"2107c015-ab86-472c-a54f-db28aa5932a7\">SimpleImputer</label><div class=\"sk-toggleable__content\"><pre>SimpleImputer(strategy='most_frequent')</pre></div></div></div><div class=\"sk-item\"><div class=\"sk-estimator sk-toggleable\"><input class=\"sk-toggleable__control sk-hidden--visually\" id=\"35e8b668-8500-49fb-8885-27d65f994696\" type=\"checkbox\" ><label class=\"sk-toggleable__label\" for=\"35e8b668-8500-49fb-8885-27d65f994696\">OneHotEncoder</label><div class=\"sk-toggleable__content\"><pre>OneHotEncoder(handle_unknown='ignore')</pre></div></div></div></div></div></div></div></div></div></div><div class=\"sk-item\"><div class=\"sk-estimator sk-toggleable\"><input class=\"sk-toggleable__control sk-hidden--visually\" id=\"749bf1d5-f6a8-4b08-ae5d-3b6e6b062301\" type=\"checkbox\" ><label class=\"sk-toggleable__label\" for=\"749bf1d5-f6a8-4b08-ae5d-3b6e6b062301\">LogisticRegression</label><div class=\"sk-toggleable__content\"><pre>LogisticRegression(C=3, class_weight={0: 1, 1: 15}, multi_class='multinomial',\n",
       "                   n_jobs=-1)</pre></div></div></div></div></div></div></div>"
      ],
      "text/plain": [
       "Pipeline(steps=[('columns',\n",
       "                 ColumnTransformer(transformers=[('continuous',\n",
       "                                                  Pipeline(steps=[('impute',\n",
       "                                                                   KNNImputer(n_neighbors=7)),\n",
       "                                                                  ('scaler',\n",
       "                                                                   StandardScaler())]),\n",
       "                                                  ['age', 'avg_glucose_level',\n",
       "                                                   'bmi']),\n",
       "                                                 ('categorical',\n",
       "                                                  Pipeline(steps=[('freq_imputer',\n",
       "                                                                   SimpleImputer(strategy='most_frequent')),\n",
       "                                                                  ('ohe',\n",
       "                                                                   OneHotEncoder(handle_unknown='ignore'))]),\n",
       "                                                  ['gender', 'hypertension',\n",
       "                                                   'heart_disease',\n",
       "                                                   'ever_married', 'work_type',\n",
       "                                                   'Residence_type',\n",
       "                                                   'smoking_status'])])),\n",
       "                ('estimator',\n",
       "                 LogisticRegression(C=3, class_weight={0: 1, 1: 15},\n",
       "                                    multi_class='multinomial', n_jobs=-1))])"
      ]
     },
     "execution_count": 9,
     "metadata": {},
     "output_type": "execute_result"
    }
   ],
   "source": [
    "best_model.best_estimator_"
   ]
  },
  {
   "cell_type": "code",
   "execution_count": 10,
   "metadata": {},
   "outputs": [
    {
     "data": {
      "text/plain": [
       "array([[0.78871006, 0.21128994],\n",
       "       [0.95920938, 0.04079062],\n",
       "       [0.88392172, 0.11607828],\n",
       "       [0.86399655, 0.13600345],\n",
       "       [0.76445116, 0.23554884]])"
      ]
     },
     "execution_count": 10,
     "metadata": {},
     "output_type": "execute_result"
    }
   ],
   "source": [
    "y_pred = best_model.predict(X_test)\n",
    "y_proba = best_model.predict_proba(X_test)\n",
    "y_proba[:5]"
   ]
  },
  {
   "cell_type": "code",
   "execution_count": 11,
   "metadata": {},
   "outputs": [
    {
     "name": "stdout",
     "output_type": "stream",
     "text": [
      "recall: 0.69\n",
      "precision: 0.17\n",
      "f1: 0.84\n",
      "balanced_accuracy: 0.74\n"
     ]
    },
    {
     "data": {
      "text/plain": [
       "array([[1152,  296],\n",
       "       [  26,   59]])"
      ]
     },
     "execution_count": 11,
     "metadata": {},
     "output_type": "execute_result"
    }
   ],
   "source": [
    "recall = recall_score(y_test, y_pred)\n",
    "precision = precision_score(y_test, y_pred)\n",
    "acc = balanced_accuracy_score(y_test, y_pred)\n",
    "cf = confusion_matrix(y_test, y_pred)\n",
    "f1 = f1_score(y_test, y_pred, average=\"weighted\")\n",
    "\n",
    "print(\"recall:\", round(recall, 2))\n",
    "print(\"precision:\", round(precision, 2))\n",
    "print(\"f1:\", round(f1, 2))\n",
    "print(\"balanced_accuracy:\", round(acc, 2))\n",
    "cf"
   ]
  },
  {
   "cell_type": "code",
   "execution_count": 12,
   "metadata": {},
   "outputs": [
    {
     "data": {
      "image/png": "[encoded data removed]",
      "text/plain": [
       "<Figure size 720x720 with 1 Axes>"
      ]
     },
     "metadata": {
      "needs_background": "light"
     },
     "output_type": "display_data"
    }
   ],
   "source": [
    "from sklearn.inspection import permutation_importance\n",
    "\n",
    "result = permutation_importance(best_model, X_test, y_test, n_repeats=10,\n",
    "                                random_state=42, n_jobs=2)\n",
    "\n",
    "sorted_idx = result.importances_mean.argsort()\n",
    "\n",
    "fig, ax = plt.subplots()\n",
    "ax.boxplot(result.importances[sorted_idx].T,\n",
    "           vert=False, labels=X_test.columns[sorted_idx])\n",
    "ax.set_title(\"Permutation Importances (test set)\")\n",
    "plt.show()"
   ]
  },
  {
   "cell_type": "markdown",
   "metadata": {},
   "source": [
    "# Implementing with SMOTE"
   ]
  },
  {
   "cell_type": "code",
   "execution_count": 13,
   "metadata": {},
   "outputs": [],
   "source": [
    "# For main pipeline\n",
    "smote = (\"smote\", SMOTE())\n",
    "\n",
    "# Main pipeline\n",
    "pipe = imblearn.pipeline.Pipeline([column_treatment, \n",
    "                                   smote,\n",
    "                                   estimator])"
   ]
  },
  {
   "cell_type": "code",
   "execution_count": 20,
   "metadata": {},
   "outputs": [
    {
     "name": "stdout",
     "output_type": "stream",
     "text": [
      "Fitting 3 folds for each of 50 candidates, totalling 150 fits\n"
     ]
    },
    {
     "name": "stderr",
     "output_type": "stream",
     "text": [
      "[Parallel(n_jobs=1)]: Using backend SequentialBackend with 1 concurrent workers.\n",
      "[Parallel(n_jobs=1)]: Done 150 out of 150 | elapsed:   31.9s finished\n"
     ]
    },
    {
     "name": "stdout",
     "output_type": "stream",
     "text": [
      "CPU times: user 2min 39s, sys: 8.08 s, total: 2min 47s\n",
      "Wall time: 32.2 s\n"
     ]
    },
    {
     "data": {
      "text/plain": [
       "{'smote__sampling_strategy': 0.25,\n",
       " 'smote__k_neighbors': 1,\n",
       " 'estimator__n_estimators': 200,\n",
       " 'estimator__min_samples_leaf': 20,\n",
       " 'estimator__max_features': 1,\n",
       " 'estimator__criterion': 'gini',\n",
       " 'estimator__class_weight': {0: 1, 1: 15},\n",
       " 'estimator': RandomForestClassifier(class_weight={0: 1, 1: 15}, max_features=1,\n",
       "                        min_samples_leaf=20, n_estimators=200, n_jobs=-1)}"
      ]
     },
     "execution_count": 20,
     "metadata": {},
     "output_type": "execute_result"
    }
   ],
   "source": [
    "# new for smote\n",
    "sampling_strategy = [.10, .25, .50, .75, 1]\n",
    "k_neighbors = [1, 2, 3, 4, 5]\n",
    "\n",
    "# define estimators and hyperparameters for testing\n",
    "lr = dict(smote__sampling_strategy=sampling_strategy, # only these 2 lines are added to each estimator\n",
    "          smote__k_neighbors=k_neighbors, # only these 2 lines are added to each estimator\n",
    "          estimator=[LogisticRegression(n_jobs=-1)],\n",
    "                     estimator__C=[0.01, 0.5, 1, 2, 3, 10, 100],\n",
    "                     estimator__class_weight=[{0:1,1:15}, \n",
    "                                              {0:1,1:10}, \n",
    "                                             ],\n",
    "                     estimator__multi_class=[\"ovr\", \"multinomial\"]\n",
    "         )\n",
    "\n",
    "rf = dict(smote__sampling_strategy=sampling_strategy,\n",
    "          smote__k_neighbors=k_neighbors,\n",
    "          estimator=[RandomForestClassifier(n_jobs=-1)],\n",
    "                     estimator__criterion=['gini', 'entropy'],\n",
    "                     estimator__class_weight=['balanced', 'balanced_subsample',\n",
    "                                             {0:1,1:15}, \n",
    "                                              {0:1,1:10}, \n",
    "                                              {0:1,1:5}\n",
    "                                             ],\n",
    "                     estimator__max_features=[1, 2, 3, 4, \"sqrt\"],\n",
    "                     estimator__n_estimators=[100, 150, 200],\n",
    "                     estimator__min_samples_leaf=[5, 10, 20],\n",
    "         )\n",
    "\n",
    "kn = dict(smote__sampling_strategy=sampling_strategy,\n",
    "          smote__k_neighbors=k_neighbors,\n",
    "          estimator=[KNeighborsClassifier(n_jobs=-1)],\n",
    "                     estimator__n_neighbors=[1,2,3,4,5],\n",
    "                     estimator__leaf_size=[10, 20, 30, 40, 50],\n",
    "                     estimator__weights = [\"uniform\", \"distance\"]\n",
    "         )\n",
    "\n",
    "# create search space on logistic regression, ensemblers, kneighbors\n",
    "search_space = [lr, rf, kn]\n",
    "\n",
    "# random grid search across models and their hyperparms\n",
    "clf_rand = RandomizedSearchCV(estimator=pipe, \n",
    "                              param_distributions=search_space, \n",
    "                              n_iter=50,\n",
    "                              cv=3,\n",
    "                              verbose=True,\n",
    "                              scoring='recall'\n",
    "                              )\n",
    "\n",
    "X_train, X_test, y_train, y_test = train_test_split(X, y, train_size=.7, random_state=777)\n",
    "\n",
    "%time best_model = clf_rand.fit(X_train, y_train)\n",
    "best_model.best_params_"
   ]
  },
  {
   "cell_type": "code",
   "execution_count": 21,
   "metadata": {},
   "outputs": [
    {
     "data": {
      "text/html": [
       "<style>div.sk-top-container {color: black;background-color: white;}div.sk-toggleable {background-color: white;}label.sk-toggleable__label {cursor: pointer;display: block;width: 100%;margin-bottom: 0;padding: 0.2em 0.3em;box-sizing: border-box;text-align: center;}div.sk-toggleable__content {max-height: 0;max-width: 0;overflow: hidden;text-align: left;background-color: #f0f8ff;}div.sk-toggleable__content pre {margin: 0.2em;color: black;border-radius: 0.25em;background-color: #f0f8ff;}input.sk-toggleable__control:checked~div.sk-toggleable__content {max-height: 200px;max-width: 100%;overflow: auto;}div.sk-estimator input.sk-toggleable__control:checked~label.sk-toggleable__label {background-color: #d4ebff;}div.sk-label input.sk-toggleable__control:checked~label.sk-toggleable__label {background-color: #d4ebff;}input.sk-hidden--visually {border: 0;clip: rect(1px 1px 1px 1px);clip: rect(1px, 1px, 1px, 1px);height: 1px;margin: -1px;overflow: hidden;padding: 0;position: absolute;width: 1px;}div.sk-estimator {font-family: monospace;background-color: #f0f8ff;margin: 0.25em 0.25em;border: 1px dotted black;border-radius: 0.25em;box-sizing: border-box;}div.sk-estimator:hover {background-color: #d4ebff;}div.sk-parallel-item::after {content: \"\";width: 100%;border-bottom: 1px solid gray;flex-grow: 1;}div.sk-label:hover label.sk-toggleable__label {background-color: #d4ebff;}div.sk-serial::before {content: \"\";position: absolute;border-left: 1px solid gray;box-sizing: border-box;top: 2em;bottom: 0;left: 50%;}div.sk-serial {display: flex;flex-direction: column;align-items: center;background-color: white;}div.sk-item {z-index: 1;}div.sk-parallel {display: flex;align-items: stretch;justify-content: center;background-color: white;}div.sk-parallel-item {display: flex;flex-direction: column;position: relative;background-color: white;}div.sk-parallel-item:first-child::after {align-self: flex-end;width: 50%;}div.sk-parallel-item:last-child::after {align-self: flex-start;width: 50%;}div.sk-parallel-item:only-child::after {width: 0;}div.sk-dashed-wrapped {border: 1px dashed gray;margin: 0.2em;box-sizing: border-box;padding-bottom: 0.1em;background-color: white;position: relative;}div.sk-label label {font-family: monospace;font-weight: bold;background-color: white;display: inline-block;line-height: 1.2em;}div.sk-label-container {position: relative;z-index: 2;text-align: center;}div.sk-container {display: inline-block;position: relative;}</style><div class=\"sk-top-container\"><div class=\"sk-container\"><div class=\"sk-item sk-dashed-wrapped\"><div class=\"sk-label-container\"><div class=\"sk-label sk-toggleable\"><input class=\"sk-toggleable__control sk-hidden--visually\" id=\"6f941c8f-5ae9-48fb-8d0a-f21274f07ba6\" type=\"checkbox\" ><label class=\"sk-toggleable__label\" for=\"6f941c8f-5ae9-48fb-8d0a-f21274f07ba6\">Pipeline</label><div class=\"sk-toggleable__content\"><pre>Pipeline(steps=[('columns',\n",
       "                 ColumnTransformer(transformers=[('continuous',\n",
       "                                                  Pipeline(steps=[('impute',\n",
       "                                                                   KNNImputer(n_neighbors=7)),\n",
       "                                                                  ('scaler',\n",
       "                                                                   StandardScaler())]),\n",
       "                                                  ['age', 'avg_glucose_level',\n",
       "                                                   'bmi']),\n",
       "                                                 ('categorical',\n",
       "                                                  Pipeline(steps=[('freq_imputer',\n",
       "                                                                   SimpleImputer(strategy='most_frequent')),\n",
       "                                                                  ('ohe',\n",
       "                                                                   OneHotEncoder(handle_unknown='ignore'))]),\n",
       "                                                  ['gender', 'hypertension',\n",
       "                                                   'heart_disease',\n",
       "                                                   'ever_married', 'work_type',\n",
       "                                                   'Residence_type',\n",
       "                                                   'smoking_status'])])),\n",
       "                ('smote', SMOTE(k_neighbors=1, sampling_strategy=0.25)),\n",
       "                ('estimator',\n",
       "                 RandomForestClassifier(class_weight={0: 1, 1: 15},\n",
       "                                        max_features=1, min_samples_leaf=20,\n",
       "                                        n_estimators=200, n_jobs=-1))])</pre></div></div></div><div class=\"sk-serial\"><div class=\"sk-item sk-dashed-wrapped\"><div class=\"sk-label-container\"><div class=\"sk-label sk-toggleable\"><input class=\"sk-toggleable__control sk-hidden--visually\" id=\"0f04ed45-0fe1-4a2d-9254-1ffbe7b7fcfc\" type=\"checkbox\" ><label class=\"sk-toggleable__label\" for=\"0f04ed45-0fe1-4a2d-9254-1ffbe7b7fcfc\">columns: ColumnTransformer</label><div class=\"sk-toggleable__content\"><pre>ColumnTransformer(transformers=[('continuous',\n",
       "                                 Pipeline(steps=[('impute',\n",
       "                                                  KNNImputer(n_neighbors=7)),\n",
       "                                                 ('scaler', StandardScaler())]),\n",
       "                                 ['age', 'avg_glucose_level', 'bmi']),\n",
       "                                ('categorical',\n",
       "                                 Pipeline(steps=[('freq_imputer',\n",
       "                                                  SimpleImputer(strategy='most_frequent')),\n",
       "                                                 ('ohe',\n",
       "                                                  OneHotEncoder(handle_unknown='ignore'))]),\n",
       "                                 ['gender', 'hypertension', 'heart_disease',\n",
       "                                  'ever_married', 'work_type', 'Residence_type',\n",
       "                                  'smoking_status'])])</pre></div></div></div><div class=\"sk-parallel\"><div class=\"sk-parallel-item\"><div class=\"sk-item\"><div class=\"sk-label-container\"><div class=\"sk-label sk-toggleable\"><input class=\"sk-toggleable__control sk-hidden--visually\" id=\"f82e537a-8097-453e-9d68-948c6fff373f\" type=\"checkbox\" ><label class=\"sk-toggleable__label\" for=\"f82e537a-8097-453e-9d68-948c6fff373f\">continuous</label><div class=\"sk-toggleable__content\"><pre>['age', 'avg_glucose_level', 'bmi']</pre></div></div></div><div class=\"sk-serial\"><div class=\"sk-item\"><div class=\"sk-serial\"><div class=\"sk-item\"><div class=\"sk-estimator sk-toggleable\"><input class=\"sk-toggleable__control sk-hidden--visually\" id=\"71af5259-148d-4374-8c41-d3a5face26fa\" type=\"checkbox\" ><label class=\"sk-toggleable__label\" for=\"71af5259-148d-4374-8c41-d3a5face26fa\">KNNImputer</label><div class=\"sk-toggleable__content\"><pre>KNNImputer(n_neighbors=7)</pre></div></div></div><div class=\"sk-item\"><div class=\"sk-estimator sk-toggleable\"><input class=\"sk-toggleable__control sk-hidden--visually\" id=\"cdcf794a-b8d8-4ba8-9a28-033c45eb40f9\" type=\"checkbox\" ><label class=\"sk-toggleable__label\" for=\"cdcf794a-b8d8-4ba8-9a28-033c45eb40f9\">StandardScaler</label><div class=\"sk-toggleable__content\"><pre>StandardScaler()</pre></div></div></div></div></div></div></div></div><div class=\"sk-parallel-item\"><div class=\"sk-item\"><div class=\"sk-label-container\"><div class=\"sk-label sk-toggleable\"><input class=\"sk-toggleable__control sk-hidden--visually\" id=\"b5b21e51-6df7-4654-94f2-211a2d6d6bfc\" type=\"checkbox\" ><label class=\"sk-toggleable__label\" for=\"b5b21e51-6df7-4654-94f2-211a2d6d6bfc\">categorical</label><div class=\"sk-toggleable__content\"><pre>['gender', 'hypertension', 'heart_disease', 'ever_married', 'work_type', 'Residence_type', 'smoking_status']</pre></div></div></div><div class=\"sk-serial\"><div class=\"sk-item\"><div class=\"sk-serial\"><div class=\"sk-item\"><div class=\"sk-estimator sk-toggleable\"><input class=\"sk-toggleable__control sk-hidden--visually\" id=\"51c4b5a5-ffa0-4cd2-a0b2-ccc301700d43\" type=\"checkbox\" ><label class=\"sk-toggleable__label\" for=\"51c4b5a5-ffa0-4cd2-a0b2-ccc301700d43\">SimpleImputer</label><div class=\"sk-toggleable__content\"><pre>SimpleImputer(strategy='most_frequent')</pre></div></div></div><div class=\"sk-item\"><div class=\"sk-estimator sk-toggleable\"><input class=\"sk-toggleable__control sk-hidden--visually\" id=\"c23c47db-21e3-4f5a-a3ee-e95f62e06887\" type=\"checkbox\" ><label class=\"sk-toggleable__label\" for=\"c23c47db-21e3-4f5a-a3ee-e95f62e06887\">OneHotEncoder</label><div class=\"sk-toggleable__content\"><pre>OneHotEncoder(handle_unknown='ignore')</pre></div></div></div></div></div></div></div></div></div></div><div class=\"sk-item\"><div class=\"sk-estimator sk-toggleable\"><input class=\"sk-toggleable__control sk-hidden--visually\" id=\"a3d0e0a3-5723-44e3-bb15-11813b4e6795\" type=\"checkbox\" ><label class=\"sk-toggleable__label\" for=\"a3d0e0a3-5723-44e3-bb15-11813b4e6795\">SMOTE</label><div class=\"sk-toggleable__content\"><pre>SMOTE(k_neighbors=1, sampling_strategy=0.25)</pre></div></div></div><div class=\"sk-item\"><div class=\"sk-estimator sk-toggleable\"><input class=\"sk-toggleable__control sk-hidden--visually\" id=\"b2ce823b-1336-48f7-af6b-f49876a1ece5\" type=\"checkbox\" ><label class=\"sk-toggleable__label\" for=\"b2ce823b-1336-48f7-af6b-f49876a1ece5\">RandomForestClassifier</label><div class=\"sk-toggleable__content\"><pre>RandomForestClassifier(class_weight={0: 1, 1: 15}, max_features=1,\n",
       "                       min_samples_leaf=20, n_estimators=200, n_jobs=-1)</pre></div></div></div></div></div></div></div>"
      ],
      "text/plain": [
       "Pipeline(steps=[('columns',\n",
       "                 ColumnTransformer(transformers=[('continuous',\n",
       "                                                  Pipeline(steps=[('impute',\n",
       "                                                                   KNNImputer(n_neighbors=7)),\n",
       "                                                                  ('scaler',\n",
       "                                                                   StandardScaler())]),\n",
       "                                                  ['age', 'avg_glucose_level',\n",
       "                                                   'bmi']),\n",
       "                                                 ('categorical',\n",
       "                                                  Pipeline(steps=[('freq_imputer',\n",
       "                                                                   SimpleImputer(strategy='most_frequent')),\n",
       "                                                                  ('ohe',\n",
       "                                                                   OneHotEncoder(handle_unknown='ignore'))]),\n",
       "                                                  ['gender', 'hypertension',\n",
       "                                                   'heart_disease',\n",
       "                                                   'ever_married', 'work_type',\n",
       "                                                   'Residence_type',\n",
       "                                                   'smoking_status'])])),\n",
       "                ('smote', SMOTE(k_neighbors=1, sampling_strategy=0.25)),\n",
       "                ('estimator',\n",
       "                 RandomForestClassifier(class_weight={0: 1, 1: 15},\n",
       "                                        max_features=1, min_samples_leaf=20,\n",
       "                                        n_estimators=200, n_jobs=-1))])"
      ]
     },
     "execution_count": 21,
     "metadata": {},
     "output_type": "execute_result"
    }
   ],
   "source": [
    "best_model.best_estimator_"
   ]
  },
  {
   "cell_type": "code",
   "execution_count": 22,
   "metadata": {},
   "outputs": [
    {
     "data": {
      "text/plain": [
       "array([[0.34300152, 0.65699848],\n",
       "       [0.55324653, 0.44675347],\n",
       "       [0.47925755, 0.52074245],\n",
       "       [0.32754428, 0.67245572],\n",
       "       [0.28607608, 0.71392392]])"
      ]
     },
     "execution_count": 22,
     "metadata": {},
     "output_type": "execute_result"
    }
   ],
   "source": [
    "y_pred = best_model.predict(X_test)\n",
    "y_proba = best_model.predict_proba(X_test)\n",
    "y_proba[:5]"
   ]
  },
  {
   "cell_type": "code",
   "execution_count": 23,
   "metadata": {},
   "outputs": [
    {
     "name": "stdout",
     "output_type": "stream",
     "text": [
      "recall: 1.0\n",
      "precision: 0.08\n",
      "f1: 0.44\n",
      "balanced_accuracy: 0.65\n"
     ]
    },
    {
     "data": {
      "text/plain": [
       "array([[ 433, 1015],\n",
       "       [   0,   85]])"
      ]
     },
     "execution_count": 23,
     "metadata": {},
     "output_type": "execute_result"
    }
   ],
   "source": [
    "recall = recall_score(y_test, y_pred)\n",
    "precision = precision_score(y_test, y_pred)\n",
    "acc = balanced_accuracy_score(y_test, y_pred)\n",
    "cf = confusion_matrix(y_test, y_pred)\n",
    "f1 = f1_score(y_test, y_pred, average=\"weighted\")\n",
    "\n",
    "print(\"recall:\", round(recall, 2))\n",
    "print(\"precision:\", round(precision, 2))\n",
    "print(\"f1:\", round(f1, 2))\n",
    "print(\"balanced_accuracy:\", round(acc, 2))\n",
    "cf"
   ]
  },
  {
   "cell_type": "code",
   "execution_count": 18,
   "metadata": {},
   "outputs": [
    {
     "data": {
      "image/png": "[encoded data removed]",
      "text/plain": [
       "<Figure size 720x720 with 1 Axes>"
      ]
     },
     "metadata": {
      "needs_background": "light"
     },
     "output_type": "display_data"
    }
   ],
   "source": [
    "from sklearn.inspection import permutation_importance\n",
    "\n",
    "result = permutation_importance(best_model, X_test, y_test, n_repeats=10,\n",
    "                                random_state=42, n_jobs=2)\n",
    "\n",
    "sorted_idx = result.importances_mean.argsort()\n",
    "\n",
    "fig, ax = plt.subplots()\n",
    "ax.boxplot(result.importances[sorted_idx].T,\n",
    "           vert=False, labels=X_test.columns[sorted_idx])\n",
    "ax.set_title(\"Permutation Importances (test set)\")\n",
    "plt.show()"
   ]
  },
  {
   "cell_type": "markdown",
   "metadata": {},
   "source": [
    "# Conclusion"
   ]
  },
  {
   "cell_type": "markdown",
   "metadata": {},
   "source": [
    "## Best final model for recall (visual above)\n",
    "SMOTE(sampling_strategy=1, k_neighbors =1)\n",
    "\n",
    "RandomForestClassifier(bootstrap=False, class_weight={0: 1, 1: 10},\n",
    "                        max_features=1, min_samples_leaf=20, n_estimators=150,\n",
    "                        n_jobs=-1)\n",
    "\n",
    "Under similar conditions, SMOTE was able to get a much higher recall on unseen data. \n",
    "This may be particularly important if doctors wish to reduce the number of those who pass away\n",
    "from a stroke and can accept a high number of false positives. If such a high number is not \n",
    "acceptable, then a non-SMOTE model may be better for business.\n",
    "\n",
    "## Future Directions\n",
    "The present experiment used a single train and test set, but future work should create several\n",
    "train and test sets to truly compare which is better. As well, more (hyper)parameters may be added\n",
    "into the model or a more exhaustive technique such as GridSearch may yield better results."
   ]
  }
 ],
 "metadata": {
  "kernelspec": {
   "display_name": "Python 3",
   "language": "python",
   "name": "python3"
  },
  "language_info": {
   "codemirror_mode": {
    "name": "ipython",
    "version": 3
   },
   "file_extension": ".py",
   "mimetype": "text/x-python",
   "name": "python",
   "nbconvert_exporter": "python",
   "pygments_lexer": "ipython3",
   "version": "3.8.3"
  },
  "toc": {
   "base_numbering": 1,
   "nav_menu": {},
   "number_sections": false,
   "sideBar": false,
   "skip_h1_title": false,
   "title_cell": "Table of Contents",
   "title_sidebar": "Contents",
   "toc_cell": true,
   "toc_position": {},
   "toc_section_display": true,
   "toc_window_display": false
  }
 },
 "nbformat": 4,
 "nbformat_minor": 4
}
